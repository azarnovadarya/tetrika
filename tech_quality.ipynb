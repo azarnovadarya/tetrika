{
 "cells": [
  {
   "cell_type": "code",
   "execution_count": 2,
   "metadata": {
    "pycharm": {
     "is_executing": false
    }
   },
   "outputs": [],
   "source": [
    "import re\n",
    "import datetime\n",
    "import pandas as pd\n",
    "\n",
    "def read_sql_results(file, regex):\n",
    "    lines = open(file, 'r').readlines()\n",
    "    pattern = re.compile(regex)\n",
    "    lines = list(filter(lambda line: pattern.match(line), lines))\n",
    "\n",
    "    tables = list(map(lambda line: strip(line.replace('\\n', '').split('|')), lines))\n",
    "    \n",
    "    columns = tables.pop(0)\n",
    "\n",
    "    return pd.DataFrame(tables, columns=columns)\n",
    "\n",
    "def strip(lines):\n",
    "    return list(map(lambda line: line.strip(), lines))"
   ]
  },
  {
   "cell_type": "code",
   "execution_count": 3,
   "metadata": {
    "pycharm": {
     "is_executing": false
    }
   },
   "outputs": [],
   "source": [
    "lessons = read_sql_results('data/tech_quality/lessons.txt', '.+\\|.+\\|.+\\|.+')\n",
    "participants = read_sql_results('data/tech_quality/participants.txt', '.+\\|.+')\n",
    "quality = read_sql_results('data/tech_quality/quality.txt', '.+\\|.+')\n",
    "users = read_sql_results('data/tech_quality/users.txt', '.+\\|.+')"
   ]
  },
  {
   "cell_type": "code",
   "execution_count": 4,
   "metadata": {
    "pycharm": {
     "is_executing": false
    }
   },
   "outputs": [],
   "source": [
    "users = users.drop_duplicates()\n",
    "participants = participants.drop_duplicates()\n",
    "lessons = lessons.drop_duplicates()\n",
    "\n",
    "users = users.rename(columns={'id': 'user_id'})\n",
    "lessons = lessons.rename(columns={'id': 'lesson_id'})\n",
    "lessons['date'] = pd.to_datetime(lessons['scheduled_time'], utc=True).dt.tz_convert('Europe/Moscow').dt.date"
   ]
  },
  {
   "cell_type": "code",
   "execution_count": 5,
   "metadata": {
    "pycharm": {
     "is_executing": false
    }
   },
   "outputs": [],
   "source": [
    "quality = quality[quality['tech_quality'] != '']\n",
    "quality['tech_quality'] = quality['tech_quality'].astype(float)"
   ]
  },
  {
   "cell_type": "code",
   "execution_count": 6,
   "metadata": {
    "pycharm": {
     "is_executing": false
    }
   },
   "outputs": [],
   "source": [
    "lessons = lessons[lessons.subject == 'phys']\n",
    "lessons = lessons.merge(participants, on='event_id')\n",
    "lessons = lessons.merge(users, on='user_id')\n",
    "\n",
    "# before joining scores we must drop all unnecessary rows with repeating lesson_ids\n",
    "lessons = lessons[lessons['role'] == 'tutor']\n",
    "\n",
    "lessons = lessons.merge(quality, on='lesson_id')"
   ]
  },
  {
   "cell_type": "code",
   "execution_count": 7,
   "metadata": {
    "pycharm": {
     "is_executing": false
    }
   },
   "outputs": [],
   "source": [
    "date_user_avgs = lessons.groupby(['date', 'user_id'])['tech_quality'].mean().reset_index()"
   ]
  },
  {
   "cell_type": "code",
   "execution_count": 8,
   "metadata": {
    "pycharm": {
     "is_executing": false
    }
   },
   "outputs": [
    {
     "data": {
      "text/plain": "          date                               user_id  tech_quality\n0   2020-01-11  2fa2ab62-f1b0-4036-872f-bcfd9a8686ff      5.000000\n1   2020-01-11  30a19496-bdaf-461c-abbc-2709ae520201      5.000000\n2   2020-01-11  43efce48-94b2-4412-857f-223d45969008      5.000000\n3   2020-01-11  603b8641-c6f6-4d89-ac89-88e50d45aa0d      4.800000\n4   2020-01-11  8fe03f08-8581-430c-a590-9888ab36deb3      4.428571\n..         ...                                   ...           ...\n59  2020-01-20  30a19496-bdaf-461c-abbc-2709ae520201      4.500000\n60  2020-01-20  43efce48-94b2-4412-857f-223d45969008      4.500000\n61  2020-01-20  696c838e-c054-4e9f-a51a-50bf5660f364      5.000000\n62  2020-01-20  b37ccae8-fc31-4ad8-8f55-ca855b23fbf6      5.000000\n63  2020-01-20  be676776-8366-4c71-8a35-d58014806eb5      5.000000\n\n[64 rows x 3 columns]",
      "text/html": "<div>\n<style scoped>\n    .dataframe tbody tr th:only-of-type {\n        vertical-align: middle;\n    }\n\n    .dataframe tbody tr th {\n        vertical-align: top;\n    }\n\n    .dataframe thead th {\n        text-align: right;\n    }\n</style>\n<table border=\"1\" class=\"dataframe\">\n  <thead>\n    <tr style=\"text-align: right;\">\n      <th></th>\n      <th>date</th>\n      <th>user_id</th>\n      <th>tech_quality</th>\n    </tr>\n  </thead>\n  <tbody>\n    <tr>\n      <th>0</th>\n      <td>2020-01-11</td>\n      <td>2fa2ab62-f1b0-4036-872f-bcfd9a8686ff</td>\n      <td>5.000000</td>\n    </tr>\n    <tr>\n      <th>1</th>\n      <td>2020-01-11</td>\n      <td>30a19496-bdaf-461c-abbc-2709ae520201</td>\n      <td>5.000000</td>\n    </tr>\n    <tr>\n      <th>2</th>\n      <td>2020-01-11</td>\n      <td>43efce48-94b2-4412-857f-223d45969008</td>\n      <td>5.000000</td>\n    </tr>\n    <tr>\n      <th>3</th>\n      <td>2020-01-11</td>\n      <td>603b8641-c6f6-4d89-ac89-88e50d45aa0d</td>\n      <td>4.800000</td>\n    </tr>\n    <tr>\n      <th>4</th>\n      <td>2020-01-11</td>\n      <td>8fe03f08-8581-430c-a590-9888ab36deb3</td>\n      <td>4.428571</td>\n    </tr>\n    <tr>\n      <th>...</th>\n      <td>...</td>\n      <td>...</td>\n      <td>...</td>\n    </tr>\n    <tr>\n      <th>59</th>\n      <td>2020-01-20</td>\n      <td>30a19496-bdaf-461c-abbc-2709ae520201</td>\n      <td>4.500000</td>\n    </tr>\n    <tr>\n      <th>60</th>\n      <td>2020-01-20</td>\n      <td>43efce48-94b2-4412-857f-223d45969008</td>\n      <td>4.500000</td>\n    </tr>\n    <tr>\n      <th>61</th>\n      <td>2020-01-20</td>\n      <td>696c838e-c054-4e9f-a51a-50bf5660f364</td>\n      <td>5.000000</td>\n    </tr>\n    <tr>\n      <th>62</th>\n      <td>2020-01-20</td>\n      <td>b37ccae8-fc31-4ad8-8f55-ca855b23fbf6</td>\n      <td>5.000000</td>\n    </tr>\n    <tr>\n      <th>63</th>\n      <td>2020-01-20</td>\n      <td>be676776-8366-4c71-8a35-d58014806eb5</td>\n      <td>5.000000</td>\n    </tr>\n  </tbody>\n</table>\n<p>64 rows × 3 columns</p>\n</div>"
     },
     "metadata": {},
     "output_type": "execute_result",
     "execution_count": 8
    }
   ],
   "source": [
    "date_user_avgs"
   ]
  },
  {
   "cell_type": "code",
   "execution_count": 9,
   "metadata": {
    "pycharm": {
     "is_executing": false
    }
   },
   "outputs": [
    {
     "data": {
      "text/plain": "          date                               user_id  tech_quality\n4   2020-01-11  8fe03f08-8581-430c-a590-9888ab36deb3          4.43\n10  2020-01-12  696c838e-c054-4e9f-a51a-50bf5660f364          4.89\n13  2020-01-13  2fa2ab62-f1b0-4036-872f-bcfd9a8686ff          5.00\n25  2020-01-14  c6718d0e-976c-4d6c-b0e0-32c770776567          4.00\n26  2020-01-15  603b8641-c6f6-4d89-ac89-88e50d45aa0d          5.00\n30  2020-01-16  2fa2ab62-f1b0-4036-872f-bcfd9a8686ff          4.00\n39  2020-01-17  696c838e-c054-4e9f-a51a-50bf5660f364          4.50\n46  2020-01-18  43efce48-94b2-4412-857f-223d45969008          4.25\n57  2020-01-19  be676776-8366-4c71-8a35-d58014806eb5          4.50\n59  2020-01-20  30a19496-bdaf-461c-abbc-2709ae520201          4.50",
      "text/html": "<div>\n<style scoped>\n    .dataframe tbody tr th:only-of-type {\n        vertical-align: middle;\n    }\n\n    .dataframe tbody tr th {\n        vertical-align: top;\n    }\n\n    .dataframe thead th {\n        text-align: right;\n    }\n</style>\n<table border=\"1\" class=\"dataframe\">\n  <thead>\n    <tr style=\"text-align: right;\">\n      <th></th>\n      <th>date</th>\n      <th>user_id</th>\n      <th>tech_quality</th>\n    </tr>\n  </thead>\n  <tbody>\n    <tr>\n      <th>4</th>\n      <td>2020-01-11</td>\n      <td>8fe03f08-8581-430c-a590-9888ab36deb3</td>\n      <td>4.43</td>\n    </tr>\n    <tr>\n      <th>10</th>\n      <td>2020-01-12</td>\n      <td>696c838e-c054-4e9f-a51a-50bf5660f364</td>\n      <td>4.89</td>\n    </tr>\n    <tr>\n      <th>13</th>\n      <td>2020-01-13</td>\n      <td>2fa2ab62-f1b0-4036-872f-bcfd9a8686ff</td>\n      <td>5.00</td>\n    </tr>\n    <tr>\n      <th>25</th>\n      <td>2020-01-14</td>\n      <td>c6718d0e-976c-4d6c-b0e0-32c770776567</td>\n      <td>4.00</td>\n    </tr>\n    <tr>\n      <th>26</th>\n      <td>2020-01-15</td>\n      <td>603b8641-c6f6-4d89-ac89-88e50d45aa0d</td>\n      <td>5.00</td>\n    </tr>\n    <tr>\n      <th>30</th>\n      <td>2020-01-16</td>\n      <td>2fa2ab62-f1b0-4036-872f-bcfd9a8686ff</td>\n      <td>4.00</td>\n    </tr>\n    <tr>\n      <th>39</th>\n      <td>2020-01-17</td>\n      <td>696c838e-c054-4e9f-a51a-50bf5660f364</td>\n      <td>4.50</td>\n    </tr>\n    <tr>\n      <th>46</th>\n      <td>2020-01-18</td>\n      <td>43efce48-94b2-4412-857f-223d45969008</td>\n      <td>4.25</td>\n    </tr>\n    <tr>\n      <th>57</th>\n      <td>2020-01-19</td>\n      <td>be676776-8366-4c71-8a35-d58014806eb5</td>\n      <td>4.50</td>\n    </tr>\n    <tr>\n      <th>59</th>\n      <td>2020-01-20</td>\n      <td>30a19496-bdaf-461c-abbc-2709ae520201</td>\n      <td>4.50</td>\n    </tr>\n  </tbody>\n</table>\n</div>"
     },
     "metadata": {},
     "output_type": "execute_result",
     "execution_count": 9
    }
   ],
   "source": [
    "date_mins = date_user_avgs.loc[date_user_avgs.groupby(['date'])['tech_quality'].idxmin()]\n",
    "date_mins['tech_quality'] = date_mins['tech_quality'].round(2)\n",
    "date_mins"
   ]
  }
 ],
 "metadata": {
  "kernelspec": {
   "display_name": "Python 3",
   "language": "python",
   "name": "python3"
  },
  "language_info": {
   "codemirror_mode": {
    "name": "ipython",
    "version": 3
   },
   "file_extension": ".py",
   "mimetype": "text/x-python",
   "name": "python",
   "nbconvert_exporter": "python",
   "pygments_lexer": "ipython3",
   "version": "3.6.6"
  }
 },
 "nbformat": 4,
 "nbformat_minor": 2
}
