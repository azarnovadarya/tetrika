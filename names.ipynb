{
 "cells": [
  {
   "cell_type": "code",
   "execution_count": 114,
   "metadata": {
    "collapsed": true,
    "pycharm": {
     "is_executing": false
    }
   },
   "outputs": [
    {
     "name": "stdout",
     "text": [
      "871853874\n"
     ],
     "output_type": "stream"
    }
   ],
   "source": [
    "from os import name\n",
    "import aaron as aaron\n",
    "import pandas as pd\n",
    "\n",
    "# 1) Отсортировать все имена в лексикографическом порядке\n",
    "# 2) Посчитать для каждого имени алфавитную сумму – сумму порядковых номеров букв (MAY: 13 + 1 + 25 = 39)\n",
    "# 3) Умножить алфавитную сумму каждого имени на порядковый номер имени в отсортированном списке (индексация начинается с 1). Например, если MAY находится на 63 месте в списке, то результат для него будет 63 * 39 = 2457.\n",
    "# 4) Просуммировать произведения из п. 3 для всех имен из файла и получить число. Это число и будет ответом.\n",
    "from numpy import int64\n",
    "from pandas import Int64Index\n",
    "\n",
    "names = open('data/names.txt', 'r').read().split(\",\")\n",
    "\n",
    "alphabet = {'a': 1, 'b': 2, 'c': 3, 'd': 4, 'e': 5,\n",
    "            'f': 6, 'g': 7, 'h': 8, 'i': 9, 'j': 10,\n",
    "            'k': 11, 'l': 12, 'm': 13, 'n': 14, 'o': 15, \n",
    "            'p': 16,'q': 17, 'r': 18, 's': 19, 't': 20, \n",
    "            'u': 21, 'v': 22, 'w': 23, 'x': 24, 'y': 25,\n",
    "            'z': 26,\n",
    "             }\n",
    "\n",
    "df = pd.DataFrame(names, columns =['name'])\n",
    "\n",
    "\n",
    "df['name'] = df['name'].str.replace('\\\"','')\n",
    "df['name'] = df['name'].str.lower()\n",
    "\n",
    "df = df.sort_values(by=['name'])\n",
    "    \n",
    "def alphabet_sum (row):\n",
    "    result = 0\n",
    "    \n",
    "    for i in row['name']:\n",
    "        result += alphabet.get(i)\n",
    "        \n",
    "    return result\n",
    "\n",
    "df[\"alphabet_sum\"] = df.apply (lambda row: alphabet_sum(row), axis=1)\n",
    "\n",
    "df = df.assign(ordered_index = list(range(1, len(df) + 1)))\n",
    "\n",
    "df['total'] = df['alphabet_sum'] * df['ordered_index']\n",
    "\n",
    "df = df['total'].sum()\n",
    "\n",
    "print(df)\n",
    "\n",
    "\n",
    "\n",
    "\n",
    "\n",
    "\n",
    "\n",
    "# df['multiply']\n"
   ]
  }
 ],
 "metadata": {
  "kernelspec": {
   "display_name": "Python 3",
   "language": "python",
   "name": "python3"
  },
  "language_info": {
   "codemirror_mode": {
    "name": "ipython",
    "version": 2
   },
   "file_extension": ".py",
   "mimetype": "text/x-python",
   "name": "python",
   "nbconvert_exporter": "python",
   "pygments_lexer": "ipython2",
   "version": "2.7.6"
  },
  "pycharm": {
   "stem_cell": {
    "cell_type": "raw",
    "source": [],
    "metadata": {
     "collapsed": false
    }
   }
  }
 },
 "nbformat": 4,
 "nbformat_minor": 0
}