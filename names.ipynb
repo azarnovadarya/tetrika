{
 "cells": [
  {
   "cell_type": "code",
   "execution_count": 121,
   "metadata": {
    "collapsed": true,
    "pycharm": {
     "is_executing": false
    }
   },
   "outputs": [
    {
     "data": {
      "text/plain": "871853874"
     },
     "metadata": {},
     "output_type": "execute_result",
     "execution_count": 121
    }
   ],
   "source": [
    "\n",
    "import pandas as pd\n",
    "\n",
    "names = open('data/names.txt', 'r').read().split(\",\")\n",
    "\n",
    "alphabet = {'a': 1, 'b': 2, 'c': 3, 'd': 4, 'e': 5,\n",
    "            'f': 6, 'g': 7, 'h': 8, 'i': 9, 'j': 10,\n",
    "            'k': 11, 'l': 12, 'm': 13, 'n': 14, 'o': 15, \n",
    "            'p': 16,'q': 17, 'r': 18, 's': 19, 't': 20, \n",
    "            'u': 21, 'v': 22, 'w': 23, 'x': 24, 'y': 25,\n",
    "            'z': 26,\n",
    "             }\n",
    "\n",
    "df = pd.DataFrame(names, columns =['name'])\n",
    "\n",
    "\n",
    "df['name'] = df['name'].str.replace('\\\"','')\n",
    "df['name'] = df['name'].str.lower()\n",
    "\n",
    "df = df.sort_values(by=['name'])\n",
    "    \n",
    "def alphabet_sum (row):\n",
    "    result = 0\n",
    "    \n",
    "    for i in row['name']:\n",
    "        result += alphabet.get(i)\n",
    "        \n",
    "    return result\n",
    "\n",
    "df[\"alphabet_sum\"] = df.apply (lambda row: alphabet_sum(row), axis=1)\n",
    "\n",
    "df = df.assign(ordered_index = list(range(1, len(df) + 1)))\n",
    "\n",
    "df['total'] = df['alphabet_sum'] * df['ordered_index']\n",
    "\n",
    "result = df['total'].sum()\n",
    "\n",
    "result \n",
    "\n",
    "\n",
    "\n",
    "\n"
   ]
  }
 ],
 "metadata": {
  "kernelspec": {
   "display_name": "Python 3",
   "language": "python",
   "name": "python3"
  },
  "language_info": {
   "codemirror_mode": {
    "name": "ipython",
    "version": 2
   },
   "file_extension": ".py",
   "mimetype": "text/x-python",
   "name": "python",
   "nbconvert_exporter": "python",
   "pygments_lexer": "ipython2",
   "version": "2.7.6"
  },
  "pycharm": {
   "stem_cell": {
    "cell_type": "raw",
    "source": [],
    "metadata": {
     "collapsed": false
    }
   }
  }
 },
 "nbformat": 4,
 "nbformat_minor": 0
}