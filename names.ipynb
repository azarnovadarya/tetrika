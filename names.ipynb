{
 "cells": [
  {
   "cell_type": "code",
   "execution_count": 67,
   "metadata": {
    "collapsed": true,
    "pycharm": {
     "is_executing": false
    }
   },
   "outputs": [
    {
     "data": {
      "text/plain": "         name  alphabet_sum\n2700    aaron            49\n1582    abbey            35\n1040    abbie            19\n693      abby            30\n4841    abdul            40\n...       ...           ...\n1713     zora            60\n1509  zoraida            74\n1852     zula            60\n2186   zulema            78\n2063    zulma            73\n\n[5165 rows x 2 columns]",
      "text/html": "<div>\n<style scoped>\n    .dataframe tbody tr th:only-of-type {\n        vertical-align: middle;\n    }\n\n    .dataframe tbody tr th {\n        vertical-align: top;\n    }\n\n    .dataframe thead th {\n        text-align: right;\n    }\n</style>\n<table border=\"1\" class=\"dataframe\">\n  <thead>\n    <tr style=\"text-align: right;\">\n      <th></th>\n      <th>name</th>\n      <th>alphabet_sum</th>\n    </tr>\n  </thead>\n  <tbody>\n    <tr>\n      <th>2700</th>\n      <td>aaron</td>\n      <td>49</td>\n    </tr>\n    <tr>\n      <th>1582</th>\n      <td>abbey</td>\n      <td>35</td>\n    </tr>\n    <tr>\n      <th>1040</th>\n      <td>abbie</td>\n      <td>19</td>\n    </tr>\n    <tr>\n      <th>693</th>\n      <td>abby</td>\n      <td>30</td>\n    </tr>\n    <tr>\n      <th>4841</th>\n      <td>abdul</td>\n      <td>40</td>\n    </tr>\n    <tr>\n      <th>...</th>\n      <td>...</td>\n      <td>...</td>\n    </tr>\n    <tr>\n      <th>1713</th>\n      <td>zora</td>\n      <td>60</td>\n    </tr>\n    <tr>\n      <th>1509</th>\n      <td>zoraida</td>\n      <td>74</td>\n    </tr>\n    <tr>\n      <th>1852</th>\n      <td>zula</td>\n      <td>60</td>\n    </tr>\n    <tr>\n      <th>2186</th>\n      <td>zulema</td>\n      <td>78</td>\n    </tr>\n    <tr>\n      <th>2063</th>\n      <td>zulma</td>\n      <td>73</td>\n    </tr>\n  </tbody>\n</table>\n<p>5165 rows × 2 columns</p>\n</div>"
     },
     "metadata": {},
     "output_type": "execute_result",
     "execution_count": 67
    }
   ],
   "source": [
    "import pandas as pd\n",
    "\n",
    "# 1) Отсортировать все имена в лексикографическом порядке\n",
    "# 2) Посчитать для каждого имени алфавитную сумму – сумму порядковых номеров букв (MAY: 13 + 1 + 25 = 39)\n",
    "# 3) Умножить алфавитную сумму каждого имени на порядковый номер имени в отсортированном списке (индексация начинается с 1). Например, если MAY находится на 63 месте в списке, то результат для него будет 63 * 39 = 2457.\n",
    "# 4) Просуммировать произведения из п. 3 для всех имен из файла и получить число. Это число и будет ответом.\n",
    "\n",
    "names = open('data/names.txt', 'r').read().split(\",\")\n",
    "\n",
    "alphabet = {'a': 1, 'b': 2, 'c': 3, 'd': 4, 'e': 5,\n",
    "            'f': 6, 'g': 7, 'h': 8, 'i': 9, 'j': 10,\n",
    "            'k': 11, 'l': 12, 'm': 13, 'n': 14, 'o': 15, \n",
    "            'p': 16,'q': 17, 'r': 18, 's': 19, 't': 20, \n",
    "            'u': 21, 'v': 22, 'w': 23, 'x': 24, 'y': 25,\n",
    "            'z': 26,\n",
    "             }\n",
    "\n",
    "df = pd.DataFrame(names, columns =['name'])\n",
    "\n",
    "\n",
    "df['name'] = df['name'].str.replace('\\\"','')\n",
    "df['name'] = df['name'].str.lower()\n",
    "\n",
    "df = df.sort_values(by=['name'])\n",
    "    \n",
    "def alphabet_sum (row):\n",
    "    result = 0\n",
    "    \n",
    "    for i in row['name']:\n",
    "        result += alphabet.get(i)\n",
    "        \n",
    "    return result\n",
    "\n",
    "df[\"alphabet_sum\"] = df.apply (lambda row: alphabet_sum(row), axis=1)\n",
    "\n",
    "df\n",
    "\n",
    "# df['multiply']\n"
   ]
  }
 ],
 "metadata": {
  "kernelspec": {
   "display_name": "Python 3",
   "language": "python",
   "name": "python3"
  },
  "language_info": {
   "codemirror_mode": {
    "name": "ipython",
    "version": 2
   },
   "file_extension": ".py",
   "mimetype": "text/x-python",
   "name": "python",
   "nbconvert_exporter": "python",
   "pygments_lexer": "ipython2",
   "version": "2.7.6"
  },
  "pycharm": {
   "stem_cell": {
    "cell_type": "raw",
    "source": [],
    "metadata": {
     "collapsed": false
    }
   }
  }
 },
 "nbformat": 4,
 "nbformat_minor": 0
}