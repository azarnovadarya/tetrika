{
 "cells": [
  {
   "cell_type": "code",
   "execution_count": 3,
   "metadata": {
    "collapsed": true,
    "pycharm": {
     "is_executing": false
    }
   },
   "outputs": [],
   "source": []
  },
  {
   "cell_type": "code",
   "execution_count": 4,
   "outputs": [
    {
     "data": {
      "text/plain": "            tech_quality\ndate                    \n2020-01-17           5.0\n2020-01-19           5.0",
      "text/html": "<div>\n<style scoped>\n    .dataframe tbody tr th:only-of-type {\n        vertical-align: middle;\n    }\n\n    .dataframe tbody tr th {\n        vertical-align: top;\n    }\n\n    .dataframe thead th {\n        text-align: right;\n    }\n</style>\n<table border=\"1\" class=\"dataframe\">\n  <thead>\n    <tr style=\"text-align: right;\">\n      <th></th>\n      <th>tech_quality</th>\n    </tr>\n    <tr>\n      <th>date</th>\n      <th></th>\n    </tr>\n  </thead>\n  <tbody>\n    <tr>\n      <th>2020-01-17</th>\n      <td>5.0</td>\n    </tr>\n    <tr>\n      <th>2020-01-19</th>\n      <td>5.0</td>\n    </tr>\n  </tbody>\n</table>\n</div>"
     },
     "metadata": {},
     "output_type": "execute_result",
     "execution_count": 4
    }
   ],
   "source": [
    "import re\n",
    "\n",
    "import pandas as pd\n",
    "\n",
    "def read_sql_results(file, regex):\n",
    "    lines = open(file, 'r').readlines()\n",
    "    pattern = re.compile(regex)\n",
    "    lines = list(filter(lambda line: pattern.match(line), lines))\n",
    "\n",
    "    tables = list(map(lambda line: strip(line.replace('\\n', '').split('|')), lines))\n",
    "    \n",
    "    columns = tables.pop(0)\n",
    "\n",
    "    return pd.DataFrame(tables, columns=columns)\n",
    "\n",
    "def strip(lines):\n",
    "    return list(map(lambda line: line.strip(), lines))\n",
    "\n",
    "les = read_sql_results('data/les.txt', '.+\\|.+\\|.+\\|.+')\n",
    "part = read_sql_results('data/part.txt', '.+\\|.+')\n",
    "qual = read_sql_results('data/qual.txt', '.+\\|.+')\n",
    "use = read_sql_results('data/use.txt', '.+\\|.+')\n",
    "\n",
    "participants_to_users = part.merge(users, left_on='user_id', right_on='id')\n",
    "\n",
    "lessons_to_users = les.merge(participants_to_users.filter(items=['user_id', 'event_id', 'role']))\n",
    "\n",
    "df = lessons_to_users.merge(quality, left_on='id', right_on='lesson_id')\n",
    "\n",
    "df = df.filter(items=['user_id', 'tech_quality', 'subject', 'role', 'scheduled_time'])\n",
    "\n",
    "df = df[df['role'] == 'tutor']\n",
    "df = df[df['subject'] == 'phys']\n",
    "df = df[df['tech_quality'] != '']\n",
    "\n",
    "df = df.filter(items=['user_id', 'tech_quality', 'scheduled_time'])\n",
    "\n",
    "df['date'] = pd.to_datetime(df['scheduled_time'])\n",
    "\n",
    "df['date'] = df['date'].dt.floor('d')\n",
    "df['tech_quality'] = df['tech_quality'].astype(float)\n",
    "\n",
    "df = df.filter(items=['user_id', 'tech_quality', 'date'])\n",
    "\n",
    "df = df.groupby(['user_id','date']).mean()\n",
    "\n",
    "df = df.groupby('date').min()\n",
    "\n",
    "df\n",
    "\n",
    "\n",
    "\n",
    "\n"
   ],
   "metadata": {
    "collapsed": false,
    "pycharm": {
     "name": "#%%\n",
     "is_executing": false
    }
   }
  }
 ],
 "metadata": {
  "kernelspec": {
   "name": "python3",
   "language": "python",
   "display_name": "Python 3"
  },
  "language_info": {
   "codemirror_mode": {
    "name": "ipython",
    "version": 2
   },
   "file_extension": ".py",
   "mimetype": "text/x-python",
   "name": "python",
   "nbconvert_exporter": "python",
   "pygments_lexer": "ipython2",
   "version": "2.7.6"
  },
  "pycharm": {
   "stem_cell": {
    "cell_type": "raw",
    "source": [],
    "metadata": {
     "collapsed": false
    }
   }
  }
 },
 "nbformat": 4,
 "nbformat_minor": 0
}